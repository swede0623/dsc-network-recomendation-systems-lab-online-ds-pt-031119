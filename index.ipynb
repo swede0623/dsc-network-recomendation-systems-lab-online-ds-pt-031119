{
 "cells": [
  {
   "cell_type": "markdown",
   "metadata": {},
   "source": [
    "# Recommendation Systems - Lab\n",
    "\n",
    "## Introduction\n",
    "\n",
    "Now that you've gotten an introduction to collaborative filtering and recommendation systems, it's time to put your skills to test and attempt to build a recommendation system for a real world dataset! For this exercise, you'll be using a dataset regarding the book reviews on the Amazon marketplace. While the previous lesson focused on user-based recommendation systems, you'll apply a parallel process for an item-based recommendation system to recommend similar books at the bottom of the product page.\n",
    "\n",
    "## Objectives\n",
    "\n",
    "You will be able to:\n",
    "* Implement a recommendation system on a real world dataset"
   ]
  },
  {
   "cell_type": "code",
   "execution_count": 1,
   "metadata": {},
   "outputs": [],
   "source": [
    "import networkx as nx\n",
    "import numpy as np\n",
    "import pandas as pd\n",
    "import matplotlib.pyplot as plt"
   ]
  },
  {
   "cell_type": "markdown",
   "metadata": {},
   "source": [
    "## Load the Dataset"
   ]
  },
  {
   "cell_type": "code",
   "execution_count": 20,
   "metadata": {},
   "outputs": [
    {
     "data": {
      "text/html": [
       "<div>\n",
       "<style scoped>\n",
       "    .dataframe tbody tr th:only-of-type {\n",
       "        vertical-align: middle;\n",
       "    }\n",
       "\n",
       "    .dataframe tbody tr th {\n",
       "        vertical-align: top;\n",
       "    }\n",
       "\n",
       "    .dataframe thead th {\n",
       "        text-align: right;\n",
       "    }\n",
       "</style>\n",
       "<table border=\"1\" class=\"dataframe\">\n",
       "  <thead>\n",
       "    <tr style=\"text-align: right;\">\n",
       "      <th></th>\n",
       "      <th>source</th>\n",
       "      <th>target</th>\n",
       "      <th>weight</th>\n",
       "    </tr>\n",
       "  </thead>\n",
       "  <tbody>\n",
       "    <tr>\n",
       "      <td>0</td>\n",
       "      <td>0827229534</td>\n",
       "      <td>0804215715</td>\n",
       "      <td>0.7</td>\n",
       "    </tr>\n",
       "    <tr>\n",
       "      <td>1</td>\n",
       "      <td>0827229534</td>\n",
       "      <td>156101074X</td>\n",
       "      <td>0.5</td>\n",
       "    </tr>\n",
       "    <tr>\n",
       "      <td>2</td>\n",
       "      <td>0827229534</td>\n",
       "      <td>0687023955</td>\n",
       "      <td>0.8</td>\n",
       "    </tr>\n",
       "    <tr>\n",
       "      <td>3</td>\n",
       "      <td>0827229534</td>\n",
       "      <td>0687074231</td>\n",
       "      <td>0.8</td>\n",
       "    </tr>\n",
       "    <tr>\n",
       "      <td>4</td>\n",
       "      <td>0827229534</td>\n",
       "      <td>082721619X</td>\n",
       "      <td>0.7</td>\n",
       "    </tr>\n",
       "  </tbody>\n",
       "</table>\n",
       "</div>"
      ],
      "text/plain": [
       "       source      target  weight\n",
       "0  0827229534  0804215715     0.7\n",
       "1  0827229534  156101074X     0.5\n",
       "2  0827229534  0687023955     0.8\n",
       "3  0827229534  0687074231     0.8\n",
       "4  0827229534  082721619X     0.7"
      ]
     },
     "execution_count": 20,
     "metadata": {},
     "output_type": "execute_result"
    }
   ],
   "source": [
    "df = pd.read_csv('books_data.edgelist', delim_whitespace=True, names=['source', 'target', 'weight'])\n",
    "df.head()"
   ]
  },
  {
   "cell_type": "code",
   "execution_count": 17,
   "metadata": {},
   "outputs": [
    {
     "data": {
      "text/plain": [
       "161885"
      ]
     },
     "execution_count": 17,
     "metadata": {},
     "output_type": "execute_result"
    }
   ],
   "source": [
    "len(df.source.unique())"
   ]
  },
  {
   "cell_type": "code",
   "execution_count": 18,
   "metadata": {},
   "outputs": [
    {
     "data": {
      "text/plain": [
       "251247"
      ]
     },
     "execution_count": 18,
     "metadata": {},
     "output_type": "execute_result"
    }
   ],
   "source": [
    "len(df.target.unique())"
   ]
  },
  {
   "cell_type": "markdown",
   "metadata": {},
   "source": [
    "## Load the MetaData"
   ]
  },
  {
   "cell_type": "code",
   "execution_count": 4,
   "metadata": {
    "scrolled": true
   },
   "outputs": [
    {
     "data": {
      "text/html": [
       "<div>\n",
       "<style scoped>\n",
       "    .dataframe tbody tr th:only-of-type {\n",
       "        vertical-align: middle;\n",
       "    }\n",
       "\n",
       "    .dataframe tbody tr th {\n",
       "        vertical-align: top;\n",
       "    }\n",
       "\n",
       "    .dataframe thead th {\n",
       "        text-align: right;\n",
       "    }\n",
       "</style>\n",
       "<table border=\"1\" class=\"dataframe\">\n",
       "  <thead>\n",
       "    <tr style=\"text-align: right;\">\n",
       "      <th></th>\n",
       "      <th>Id</th>\n",
       "      <th>ASIN</th>\n",
       "      <th>Title</th>\n",
       "      <th>Categories</th>\n",
       "      <th>Group</th>\n",
       "      <th>SalesRank</th>\n",
       "      <th>TotalReviews</th>\n",
       "      <th>AvgRating</th>\n",
       "      <th>DegreeCentrality</th>\n",
       "      <th>ClusteringCoeff</th>\n",
       "    </tr>\n",
       "  </thead>\n",
       "  <tbody>\n",
       "    <tr>\n",
       "      <td>0</td>\n",
       "      <td>1</td>\n",
       "      <td>0827229534</td>\n",
       "      <td>Patterns of Preaching: A Sermon Sampler</td>\n",
       "      <td>clergi sermon subject religion preach spiritu ...</td>\n",
       "      <td>Book</td>\n",
       "      <td>396585</td>\n",
       "      <td>2</td>\n",
       "      <td>5.0</td>\n",
       "      <td>8</td>\n",
       "      <td>0.80</td>\n",
       "    </tr>\n",
       "    <tr>\n",
       "      <td>1</td>\n",
       "      <td>2</td>\n",
       "      <td>0738700797</td>\n",
       "      <td>Candlemas: Feast of Flames</td>\n",
       "      <td>subject witchcraft earth religion spiritu base...</td>\n",
       "      <td>Book</td>\n",
       "      <td>168596</td>\n",
       "      <td>12</td>\n",
       "      <td>4.5</td>\n",
       "      <td>9</td>\n",
       "      <td>0.85</td>\n",
       "    </tr>\n",
       "    <tr>\n",
       "      <td>2</td>\n",
       "      <td>3</td>\n",
       "      <td>0486287785</td>\n",
       "      <td>World War II Allied Fighter Planes Trading Cards</td>\n",
       "      <td>general hobbi subject craft home garden book</td>\n",
       "      <td>Book</td>\n",
       "      <td>1270652</td>\n",
       "      <td>1</td>\n",
       "      <td>5.0</td>\n",
       "      <td>0</td>\n",
       "      <td>0.00</td>\n",
       "    </tr>\n",
       "    <tr>\n",
       "      <td>3</td>\n",
       "      <td>4</td>\n",
       "      <td>0842328327</td>\n",
       "      <td>Life Application Bible Commentary: 1 and 2 Tim...</td>\n",
       "      <td>spiritu translat commentari christian book gui...</td>\n",
       "      <td>Book</td>\n",
       "      <td>631289</td>\n",
       "      <td>1</td>\n",
       "      <td>4.0</td>\n",
       "      <td>6</td>\n",
       "      <td>0.79</td>\n",
       "    </tr>\n",
       "    <tr>\n",
       "      <td>4</td>\n",
       "      <td>5</td>\n",
       "      <td>1577943082</td>\n",
       "      <td>Prayers That Avail Much for Business: Executive</td>\n",
       "      <td>subject religion spiritu busi christian live w...</td>\n",
       "      <td>Book</td>\n",
       "      <td>455160</td>\n",
       "      <td>0</td>\n",
       "      <td>0.0</td>\n",
       "      <td>4</td>\n",
       "      <td>1.00</td>\n",
       "    </tr>\n",
       "  </tbody>\n",
       "</table>\n",
       "</div>"
      ],
      "text/plain": [
       "   Id        ASIN                                              Title  \\\n",
       "0   1  0827229534            Patterns of Preaching: A Sermon Sampler   \n",
       "1   2  0738700797                         Candlemas: Feast of Flames   \n",
       "2   3  0486287785   World War II Allied Fighter Planes Trading Cards   \n",
       "3   4  0842328327  Life Application Bible Commentary: 1 and 2 Tim...   \n",
       "4   5  1577943082    Prayers That Avail Much for Business: Executive   \n",
       "\n",
       "                                          Categories Group  SalesRank  \\\n",
       "0  clergi sermon subject religion preach spiritu ...  Book     396585   \n",
       "1  subject witchcraft earth religion spiritu base...  Book     168596   \n",
       "2       general hobbi subject craft home garden book  Book    1270652   \n",
       "3  spiritu translat commentari christian book gui...  Book     631289   \n",
       "4  subject religion spiritu busi christian live w...  Book     455160   \n",
       "\n",
       "   TotalReviews  AvgRating  DegreeCentrality  ClusteringCoeff  \n",
       "0             2        5.0                 8             0.80  \n",
       "1            12        4.5                 9             0.85  \n",
       "2             1        5.0                 0             0.00  \n",
       "3             1        4.0                 6             0.79  \n",
       "4             0        0.0                 4             1.00  "
      ]
     },
     "execution_count": 4,
     "metadata": {},
     "output_type": "execute_result"
    }
   ],
   "source": [
    "meta = pd.read_csv('books_meta.txt', delimiter='\\t')\n",
    "meta.head()"
   ]
  },
  {
   "cell_type": "markdown",
   "metadata": {},
   "source": [
    "## Select Books to Test Your Recommender On\n",
    "\n",
    "Select a small subset of books that you are interested in generating recommendations for. "
   ]
  },
  {
   "cell_type": "code",
   "execution_count": 29,
   "metadata": {},
   "outputs": [
    {
     "data": {
      "text/html": [
       "<div>\n",
       "<style scoped>\n",
       "    .dataframe tbody tr th:only-of-type {\n",
       "        vertical-align: middle;\n",
       "    }\n",
       "\n",
       "    .dataframe tbody tr th {\n",
       "        vertical-align: top;\n",
       "    }\n",
       "\n",
       "    .dataframe thead th {\n",
       "        text-align: right;\n",
       "    }\n",
       "</style>\n",
       "<table border=\"1\" class=\"dataframe\">\n",
       "  <thead>\n",
       "    <tr style=\"text-align: right;\">\n",
       "      <th></th>\n",
       "      <th>Id</th>\n",
       "      <th>ASIN</th>\n",
       "      <th>Title</th>\n",
       "      <th>Categories</th>\n",
       "      <th>Group</th>\n",
       "      <th>SalesRank</th>\n",
       "      <th>TotalReviews</th>\n",
       "      <th>AvgRating</th>\n",
       "      <th>DegreeCentrality</th>\n",
       "      <th>ClusteringCoeff</th>\n",
       "    </tr>\n",
       "  </thead>\n",
       "  <tbody>\n",
       "    <tr>\n",
       "      <td>37</td>\n",
       "      <td>47</td>\n",
       "      <td>0590568833</td>\n",
       "      <td>How to Kill a Monster (Goosebumps)</td>\n",
       "      <td>literatur book r fiction general subject l z a...</td>\n",
       "      <td>Book</td>\n",
       "      <td>654748</td>\n",
       "      <td>10</td>\n",
       "      <td>5.0</td>\n",
       "      <td>0</td>\n",
       "      <td>0.0</td>\n",
       "    </tr>\n",
       "    <tr>\n",
       "      <td>3012</td>\n",
       "      <td>4217</td>\n",
       "      <td>0590568906</td>\n",
       "      <td>Chicken Chicken (Goosebumps)</td>\n",
       "      <td>general subject literatur author illustr l z h...</td>\n",
       "      <td>Book</td>\n",
       "      <td>318036</td>\n",
       "      <td>22</td>\n",
       "      <td>4.0</td>\n",
       "      <td>2</td>\n",
       "      <td>1.0</td>\n",
       "    </tr>\n",
       "    <tr>\n",
       "      <td>9384</td>\n",
       "      <td>13432</td>\n",
       "      <td>0590673203</td>\n",
       "      <td>Beware of the Purple Peanut Butter (Give Yours...</td>\n",
       "      <td>general subject literatur author illustr l z h...</td>\n",
       "      <td>Book</td>\n",
       "      <td>212201</td>\n",
       "      <td>15</td>\n",
       "      <td>4.5</td>\n",
       "      <td>3</td>\n",
       "      <td>1.0</td>\n",
       "    </tr>\n",
       "    <tr>\n",
       "      <td>10640</td>\n",
       "      <td>15194</td>\n",
       "      <td>0590568841</td>\n",
       "      <td>Legend of the Lost Legend (Goosebumps)</td>\n",
       "      <td>general subject literatur author illustr l z h...</td>\n",
       "      <td>Book</td>\n",
       "      <td>484234</td>\n",
       "      <td>6</td>\n",
       "      <td>4.5</td>\n",
       "      <td>2</td>\n",
       "      <td>1.0</td>\n",
       "    </tr>\n",
       "    <tr>\n",
       "      <td>10641</td>\n",
       "      <td>15195</td>\n",
       "      <td>0590494503</td>\n",
       "      <td>You Can't Scare Me! (Goosebumps, No 15)</td>\n",
       "      <td>literatur book r fiction general subject l z a...</td>\n",
       "      <td>Book</td>\n",
       "      <td>723894</td>\n",
       "      <td>4</td>\n",
       "      <td>5.0</td>\n",
       "      <td>2</td>\n",
       "      <td>0.0</td>\n",
       "    </tr>\n",
       "  </tbody>\n",
       "</table>\n",
       "</div>"
      ],
      "text/plain": [
       "          Id        ASIN                                              Title  \\\n",
       "37        47  0590568833                 How to Kill a Monster (Goosebumps)   \n",
       "3012    4217  0590568906                       Chicken Chicken (Goosebumps)   \n",
       "9384   13432  0590673203  Beware of the Purple Peanut Butter (Give Yours...   \n",
       "10640  15194  0590568841             Legend of the Lost Legend (Goosebumps)   \n",
       "10641  15195  0590494503            You Can't Scare Me! (Goosebumps, No 15)   \n",
       "\n",
       "                                              Categories Group  SalesRank  \\\n",
       "37     literatur book r fiction general subject l z a...  Book     654748   \n",
       "3012   general subject literatur author illustr l z h...  Book     318036   \n",
       "9384   general subject literatur author illustr l z h...  Book     212201   \n",
       "10640  general subject literatur author illustr l z h...  Book     484234   \n",
       "10641  literatur book r fiction general subject l z a...  Book     723894   \n",
       "\n",
       "       TotalReviews  AvgRating  DegreeCentrality  ClusteringCoeff  \n",
       "37               10        5.0                 0              0.0  \n",
       "3012             22        4.0                 2              1.0  \n",
       "9384             15        4.5                 3              1.0  \n",
       "10640             6        4.5                 2              1.0  \n",
       "10641             4        5.0                 2              0.0  "
      ]
     },
     "execution_count": 29,
     "metadata": {},
     "output_type": "execute_result"
    }
   ],
   "source": [
    "subset = meta[meta.Title.str.contains('Goosebumps')][:5]\n",
    "subset"
   ]
  },
  {
   "cell_type": "markdown",
   "metadata": {},
   "source": [
    "## Generate Recommendations for a Few Books of Choice\n",
    "\n",
    "The 'books_data.edgelist' has conveniently already calculated the distance between items for you. Given this preprocessed and data, it's time to employ collaborative filtering to generate recommendations! Generate the top 10 recommendations for each book in the subset you chose. Be sure to print the book name that you are generating recommendations for as well as the name of the books being recommended."
   ]
  },
  {
   "cell_type": "code",
   "execution_count": 33,
   "metadata": {
    "scrolled": true
   },
   "outputs": [
    {
     "name": "stdout",
     "output_type": "stream",
     "text": [
      "Recommendations for: How to Kill a Monster (Goosebumps)\n",
      "\n",
      "\n",
      "\n",
      "Recommendations for: Chicken Chicken (Goosebumps)\n",
      "(\"Don't Go to Sleep! (Goosebumps)\", 1.0)\n",
      "('Deep Trouble II (Goosebumps)', 0.9)\n",
      "\n",
      "\n",
      "\n",
      "Recommendations for: Beware of the Purple Peanut Butter (Give Yourself Goosebumps, No 6)\n",
      "('The Creepy Creations of Professor Shock (Give Yourself Goosebumps, No 14)', 1.0)\n",
      "(\"Tick Tock, You're Dead! (Give Yourself Goosebumps)\", 1.0)\n",
      "('Secret Agent Grandma (Give Yourself Goosebumps, No 16)', 1.0)\n",
      "\n",
      "\n",
      "\n",
      "Recommendations for: Legend of the Lost Legend (Goosebumps)\n",
      "('Deep Trouble II (Goosebumps)', 0.9)\n",
      "('The Blob That Ate Everyone (Goosebumps, No 55)', 0.9)\n",
      "\n",
      "\n",
      "\n",
      "Recommendations for: You Can't Scare Me! (Goosebumps, No 15)\n",
      "('Be Careful What You Wish For... (Goosebumps, No 12)', 0.9)\n",
      "('The Headless Ghost (Goosebumps, No 37)', 0.9)\n",
      "\n",
      "\n",
      "\n"
     ]
    }
   ],
   "source": [
    "rec_dict = {}\n",
    "id_name_dict = dict(zip(meta.ASIN, meta.Title))\n",
    "for row in subset.index:\n",
    "    book_id = subset.ASIN[row]\n",
    "    book_name = id_name_dict[book_id]\n",
    "    most_similar = df[(df.source==book_id)\n",
    "                      | (df.target==book_id)\n",
    "                     ].sort_values(by='weight', ascending=False).head(10)\n",
    "    most_similar['source_name'] = most_similar['source'].map(id_name_dict)\n",
    "    most_similar['target_name'] = most_similar['target'].map(id_name_dict)\n",
    "    recommendations = []\n",
    "    for row in most_similar.index:\n",
    "        if most_similar.source[row] == book_id:\n",
    "            recommendations.append((most_similar.target_name[row], most_similar.weight[row]))\n",
    "        else:\n",
    "            recommendations.append((most_similar.source_name[row], most_similar.weight[row]))\n",
    "    rec_dict[book_name] = recommendations\n",
    "    print(\"Recommendations for:\", book_name)\n",
    "    for r in recommendations:\n",
    "        print(r)\n",
    "    print('\\n\\n')"
   ]
  },
  {
   "cell_type": "code",
   "execution_count": null,
   "metadata": {},
   "outputs": [],
   "source": []
  }
 ],
 "metadata": {
  "kernelspec": {
   "display_name": "learn-env",
   "language": "python",
   "name": "learn-env"
  },
  "language_info": {
   "codemirror_mode": {
    "name": "ipython",
    "version": 3
   },
   "file_extension": ".py",
   "mimetype": "text/x-python",
   "name": "python",
   "nbconvert_exporter": "python",
   "pygments_lexer": "ipython3",
   "version": "3.6.9"
  }
 },
 "nbformat": 4,
 "nbformat_minor": 2
}
